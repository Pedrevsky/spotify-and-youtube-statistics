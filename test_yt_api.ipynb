{
 "cells": [
  {
   "cell_type": "code",
   "execution_count": 1,
   "metadata": {},
   "outputs": [],
   "source": [
    "import pandas as pd\n",
    "from os import environ\n",
    "from spotify_with_yt.getting_data.yt_api_handling import YouTubeApi"
   ]
  },
  {
   "cell_type": "code",
   "execution_count": 2,
   "metadata": {},
   "outputs": [
    {
     "data": {
      "text/plain": [
       "spotify_with_yt.getting_data.yt_api_handling.YouTubeApi"
      ]
     },
     "execution_count": 2,
     "metadata": {},
     "output_type": "execute_result"
    }
   ],
   "source": [
    "YouTubeApi"
   ]
  },
  {
   "cell_type": "code",
   "execution_count": 3,
   "metadata": {},
   "outputs": [],
   "source": [
    "api_service_name = \"youtube\"\n",
    "api_version = \"v3\"\n",
    "api_key = environ.get(\"youtube_api_key\")"
   ]
  },
  {
   "cell_type": "code",
   "execution_count": 4,
   "metadata": {},
   "outputs": [],
   "source": [
    "yt = YouTubeApi(api_service_name, api_version, api_key)"
   ]
  },
  {
   "cell_type": "code",
   "execution_count": 5,
   "metadata": {},
   "outputs": [
    {
     "data": {
      "text/plain": [
       "[{'channel_id': 'UC1I-wWC6QxyoV1vdAuAUGDw',\n",
       "  'view_count': 350162196,\n",
       "  'subscriber_count': 448000,\n",
       "  'video_count': 76,\n",
       "  'date': datetime.date(2023, 3, 2)}]"
      ]
     },
     "execution_count": 5,
     "metadata": {},
     "output_type": "execute_result"
    }
   ],
   "source": [
    "yt.get_channels_stats([\"UC1I-wWC6QxyoV1vdAuAUGDw\"])"
   ]
  },
  {
   "cell_type": "code",
   "execution_count": 6,
   "metadata": {},
   "outputs": [
    {
     "name": "stdout",
     "output_type": "stream",
     "text": [
      "<class 'pandas.core.frame.DataFrame'>\n",
      "RangeIndex: 76 entries, 0 to 75\n",
      "Data columns (total 5 columns):\n",
      " #   Column            Non-Null Count  Dtype  \n",
      "---  ------            --------------  -----  \n",
      " 0   video_id          76 non-null     object \n",
      " 1   channel_id        76 non-null     object \n",
      " 2   title             76 non-null     object \n",
      " 3   published_at      76 non-null     object \n",
      " 4   duration_seconds  76 non-null     float64\n",
      "dtypes: float64(1), object(4)\n",
      "memory usage: 3.1+ KB\n"
     ]
    }
   ],
   "source": [
    "pd.DataFrame(yt.get_video_details([\"UU1I-wWC6QxyoV1vdAuAUGDw\"])).info()"
   ]
  },
  {
   "cell_type": "code",
   "execution_count": 7,
   "metadata": {},
   "outputs": [
    {
     "data": {
      "text/html": [
       "<div>\n",
       "<style scoped>\n",
       "    .dataframe tbody tr th:only-of-type {\n",
       "        vertical-align: middle;\n",
       "    }\n",
       "\n",
       "    .dataframe tbody tr th {\n",
       "        vertical-align: top;\n",
       "    }\n",
       "\n",
       "    .dataframe thead th {\n",
       "        text-align: right;\n",
       "    }\n",
       "</style>\n",
       "<table border=\"1\" class=\"dataframe\">\n",
       "  <thead>\n",
       "    <tr style=\"text-align: right;\">\n",
       "      <th></th>\n",
       "      <th>video_id</th>\n",
       "      <th>view_count</th>\n",
       "      <th>like_count</th>\n",
       "      <th>comment_count</th>\n",
       "      <th>date</th>\n",
       "    </tr>\n",
       "  </thead>\n",
       "  <tbody>\n",
       "    <tr>\n",
       "      <th>0</th>\n",
       "      <td>br0Yv4mmdNw</td>\n",
       "      <td>508757</td>\n",
       "      <td>11518</td>\n",
       "      <td>412</td>\n",
       "      <td>2023-03-02</td>\n",
       "    </tr>\n",
       "    <tr>\n",
       "      <th>1</th>\n",
       "      <td>nFZKL6Y8FNE</td>\n",
       "      <td>901233</td>\n",
       "      <td>19906</td>\n",
       "      <td>668</td>\n",
       "      <td>2023-03-02</td>\n",
       "    </tr>\n",
       "    <tr>\n",
       "      <th>2</th>\n",
       "      <td>8zXff3Bj17E</td>\n",
       "      <td>547550</td>\n",
       "      <td>14651</td>\n",
       "      <td>568</td>\n",
       "      <td>2023-03-02</td>\n",
       "    </tr>\n",
       "    <tr>\n",
       "      <th>3</th>\n",
       "      <td>wcYTxV2FUMM</td>\n",
       "      <td>697715</td>\n",
       "      <td>19920</td>\n",
       "      <td>660</td>\n",
       "      <td>2023-03-02</td>\n",
       "    </tr>\n",
       "    <tr>\n",
       "      <th>4</th>\n",
       "      <td>hV462re6vWY</td>\n",
       "      <td>702938</td>\n",
       "      <td>20463</td>\n",
       "      <td>729</td>\n",
       "      <td>2023-03-02</td>\n",
       "    </tr>\n",
       "    <tr>\n",
       "      <th>...</th>\n",
       "      <td>...</td>\n",
       "      <td>...</td>\n",
       "      <td>...</td>\n",
       "      <td>...</td>\n",
       "      <td>...</td>\n",
       "    </tr>\n",
       "    <tr>\n",
       "      <th>71</th>\n",
       "      <td>jTb_aoVjiWU</td>\n",
       "      <td>7231926</td>\n",
       "      <td>50375</td>\n",
       "      <td>776</td>\n",
       "      <td>2023-03-02</td>\n",
       "    </tr>\n",
       "    <tr>\n",
       "      <th>72</th>\n",
       "      <td>a9vUReZDcGU</td>\n",
       "      <td>1280311</td>\n",
       "      <td>17353</td>\n",
       "      <td>546</td>\n",
       "      <td>2023-03-02</td>\n",
       "    </tr>\n",
       "    <tr>\n",
       "      <th>73</th>\n",
       "      <td>Uodq2uDxnPc</td>\n",
       "      <td>583090</td>\n",
       "      <td>8603</td>\n",
       "      <td>343</td>\n",
       "      <td>2023-03-02</td>\n",
       "    </tr>\n",
       "    <tr>\n",
       "      <th>74</th>\n",
       "      <td>dZgUMESFAaw</td>\n",
       "      <td>10424373</td>\n",
       "      <td>65162</td>\n",
       "      <td>998</td>\n",
       "      <td>2023-03-02</td>\n",
       "    </tr>\n",
       "    <tr>\n",
       "      <th>75</th>\n",
       "      <td>vQkdD5w6vyE</td>\n",
       "      <td>8652747</td>\n",
       "      <td>68962</td>\n",
       "      <td>1068</td>\n",
       "      <td>2023-03-02</td>\n",
       "    </tr>\n",
       "  </tbody>\n",
       "</table>\n",
       "<p>76 rows × 5 columns</p>\n",
       "</div>"
      ],
      "text/plain": [
       "       video_id  view_count  like_count  comment_count        date\n",
       "0   br0Yv4mmdNw      508757       11518            412  2023-03-02\n",
       "1   nFZKL6Y8FNE      901233       19906            668  2023-03-02\n",
       "2   8zXff3Bj17E      547550       14651            568  2023-03-02\n",
       "3   wcYTxV2FUMM      697715       19920            660  2023-03-02\n",
       "4   hV462re6vWY      702938       20463            729  2023-03-02\n",
       "..          ...         ...         ...            ...         ...\n",
       "71  jTb_aoVjiWU     7231926       50375            776  2023-03-02\n",
       "72  a9vUReZDcGU     1280311       17353            546  2023-03-02\n",
       "73  Uodq2uDxnPc      583090        8603            343  2023-03-02\n",
       "74  dZgUMESFAaw    10424373       65162            998  2023-03-02\n",
       "75  vQkdD5w6vyE     8652747       68962           1068  2023-03-02\n",
       "\n",
       "[76 rows x 5 columns]"
      ]
     },
     "execution_count": 7,
     "metadata": {},
     "output_type": "execute_result"
    }
   ],
   "source": [
    "pd.DataFrame(yt.get_video_stats([\"UU1I-wWC6QxyoV1vdAuAUGDw\"]))"
   ]
  }
 ],
 "metadata": {
  "kernelspec": {
   "display_name": "Python 3",
   "language": "python",
   "name": "python3"
  },
  "language_info": {
   "codemirror_mode": {
    "name": "ipython",
    "version": 3
   },
   "file_extension": ".py",
   "mimetype": "text/x-python",
   "name": "python",
   "nbconvert_exporter": "python",
   "pygments_lexer": "ipython3",
   "version": "3.10.5"
  },
  "orig_nbformat": 4,
  "vscode": {
   "interpreter": {
    "hash": "ab4dea85cede0db61619bad2a3267bbc3103ef5b9310cce0357b22ad710f879a"
   }
  }
 },
 "nbformat": 4,
 "nbformat_minor": 2
}
